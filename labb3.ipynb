{
 "cells": [
  {
   "cell_type": "code",
   "execution_count": 1,
   "id": "c872c31b",
   "metadata": {
    "scrolled": true
   },
   "outputs": [
    {
     "name": "stdout",
     "output_type": "stream",
     "text": [
      "Populating the interactive namespace from numpy and matplotlib\n"
     ]
    }
   ],
   "source": [
    "%pylab inline"
   ]
  },
  {
   "cell_type": "code",
   "execution_count": 2,
   "id": "430595d5",
   "metadata": {},
   "outputs": [],
   "source": [
    "import numpy as np\n",
    "from pylab import *"
   ]
  },
  {
   "cell_type": "code",
   "execution_count": 3,
   "id": "9f20d0b1",
   "metadata": {},
   "outputs": [
    {
     "name": "stdout",
     "output_type": "stream",
     "text": [
      "(17, 17)\n"
     ]
    },
    {
     "data": {
      "image/png": "[encoded data removed]",
      "text/plain": [
       "<Figure size 640x480 with 1 Axes>"
      ]
     },
     "metadata": {},
     "output_type": "display_data"
    }
   ],
   "source": [
    "#Denhär koden genererar en random maze med width och height av 16 där 0 representerar väggar och 1 representerar paths.\n",
    "def make_maze(w, h):\n",
    "    #visited\n",
    "    vis = [[0] * w + [1] for _ in range(h)] + [[1] * (w + 1)]\n",
    "    #vertical\n",
    "    ver = [[\"10\"] * w + ['1'] for _ in range(h)] + [[]]\n",
    "    #horizontal\n",
    "    hor = [[\"11\"] * w + ['1'] for _ in range(h + 1)]\n",
    "#Här genereras en random path. \n",
    "    def walk(x, y):\n",
    "        vis[y][x] = 1\n",
    "\n",
    "        d = [(x - 1, y), (x, y + 1), (x + 1, y), (x, y - 1)]\n",
    "        shuffle(d)\n",
    "#Om en node redan har besökts så hoppar loopen över den och går vidare till nästa node.\n",
    "        for (xx, yy) in d:\n",
    "            if vis[yy][xx]: continue\n",
    "            if xx == x: hor[max(y, yy)][x] = \"10\"\n",
    "            if yy == y: ver[y][max(x, xx)] = \"00\"\n",
    "            walk(xx, yy)\n",
    " \n",
    "    walk(numpy.random.randint(w), numpy.random.randint(h))\n",
    "# 's' sparar 'hor' & 'ver' variablerna som sedan används av M.\n",
    "    s = \"\"\n",
    "    for (a, b) in zip(hor, ver):\n",
    "        s += ''.join(a + ['\\n'] + b + ['\\n'])\n",
    "        \n",
    "#'M' använder variablerna från 's' och skapar en lista som i sin tur blir själva mazen. \n",
    "    M=[]\n",
    "    for line in s.split(\"\\n\"):\n",
    "        if line!=\"\":\n",
    "            R=[]\n",
    "            for e in line:\n",
    "                R.append(int(e))\n",
    "            M.append(R)\n",
    "    return M\n",
    " \n",
    "maze=numpy.array(make_maze(8,8))\n",
    "imshow(maze)\n",
    "\n",
    "print(maze.shape)"
   ]
  },
  {
   "cell_type": "code",
   "execution_count": 4,
   "id": "b9d69a49",
   "metadata": {},
   "outputs": [
    {
     "data": {
      "image/png": "[encoded data removed]",
      "text/plain": [
       "<Figure size 640x480 with 1 Axes>"
      ]
     },
     "metadata": {},
     "output_type": "display_data"
    }
   ],
   "source": [
    "class Node:\n",
    "#__init__ metoden används för att initziera attributen av instansen.\n",
    "    def __init__(self, parent=None, position=None):\n",
    "        self.parent = parent\n",
    "        self.position = position\n",
    "\n",
    "        self.g = 0 #cost of reaching the node\n",
    "        self.h = 0 #estimated cost to the end node\n",
    "        self.f = 0 #total cost of the node\n",
    "        \n",
    "#'__eq__' metoden används för att jämföra nodes jämlikhet beroende på deras positioner.\n",
    "    def __eq__(self, other):\n",
    "        return self.position == other.position\n",
    "\n",
    "#Denna funktion returnerar sökvägen från startnoden till slutnoden\n",
    "#Den börjar från slutnoden och följer parents tillbaka till startnoden och skapar en lista av positions på vägen. \n",
    "#Denna lista kan vi sen använda för att räkna hur många steg som behövs för att komma i mål.\n",
    "def return_path(current_node,maze):\n",
    "    solve_path = []\n",
    "    no_rows, no_columns = np.shape(maze)\n",
    "    result = [[-1 for i in range(no_columns)] for j in range(no_rows)]\n",
    "    current = current_node\n",
    "    while current is not None:\n",
    "        solve_path.append(current.position)\n",
    "        current = current.parent\n",
    "    solve_path = solve_path[::-1]\n",
    "    start_value = 0\n",
    "\n",
    "    for i in range(len(solve_path)):\n",
    "        result[solve_path[i][0]][solve_path[i][1]] = start_value\n",
    "        start_value += 1\n",
    "    return result\n",
    "\n",
    "#Här skapar vi startnoden och slutnoden och lägger till startnoden i en lista över noder att besöka. \n",
    "#Vi anger också ett maximalt antal iterationer för att förhindra att den körs på oändligt.\n",
    "#Start och End har tre attribut, g, h och f, som håller koll på kostnaden för att nå målet.\n",
    "#Sedan Går igenom listan över noder att besöka och flyttar dem till en lista med besökta noder.\n",
    "def search(maze, cost, start, end):\n",
    "    start_node = Node(None, tuple(start))\n",
    "    start_node.g = start_node.h = start_node.f = 0\n",
    "    end_node = Node(None, tuple(end))\n",
    "    end_node.g = end_node.h = end_node.f = 0\n",
    "\n",
    "    gonna_visit = []      \n",
    "    visited = [] \n",
    "    gonna_visit.append(start_node)\n",
    "    \n",
    "    outer_iterations = 0\n",
    "    max_iterations = (len(maze) // 2) ** 10\n",
    "    move  =  [[-1, 0 ], # go up\n",
    "              [ 0, -1], # go left\n",
    "              [ 1, 0 ], # go down\n",
    "              [ 0, 1 ]] # go right \n",
    "\n",
    "    no_rows, no_columns = np.shape(maze)\n",
    "    \n",
    "#Detta är main-loopen i algoritmen. Den söker tills den kommer i mål.\n",
    "    while len(gonna_visit) > 0:\n",
    "        outer_iterations += 1    \n",
    "        \n",
    "        current_node = gonna_visit[0]\n",
    "        current_index = 0\n",
    "        for index, item in enumerate(gonna_visit):\n",
    "            if item.f < current_node.f:\n",
    "                current_node = item\n",
    "                current_index = index\n",
    "                \n",
    "#Här sätter vi ett maximalt antal iterationer så att den inte fortsätter oändligt utan att hitta målet.\n",
    "        if outer_iterations > max_iterations:\n",
    "            print (\"GAME OVER\")\n",
    "            return return_path(current_node,maze)\n",
    "        gonna_visit.pop(current_index)\n",
    "        visited.append(current_node)\n",
    "\n",
    "# Om målet är funnet - returnera pathen.\n",
    "        if current_node == end_node:\n",
    "            return return_path(current_node,maze)\n",
    "\n",
    "# Genererar children från tidigare besökta nodes och filtrerar ut de children som ligger\n",
    "# på en plats som inte får besökas.\n",
    "        children = []\n",
    "\n",
    "        for new_position in move: \n",
    "            node_position = (current_node.position[0] + new_position[0], current_node.position[1] + new_position[1])\n",
    "\n",
    "            if (node_position[0] > (no_rows - 1) or \n",
    "                node_position[0] < 0 or \n",
    "                node_position[1] > (no_columns -1) or \n",
    "                node_position[1] < 0):\n",
    "                continue\n",
    "\n",
    "            if maze[node_position[0]][node_position[1]] != 0:\n",
    "                continue\n",
    "                \n",
    "            new_node = Node(current_node, node_position)\n",
    "            children.append(new_node)\n",
    "# Söker igenom hela visited list efter eventuella children\n",
    "        for child in children:\n",
    "            if len([visited_child for visited_child in visited if visited_child == child]) > 0:\n",
    "                continue\n",
    "                \n",
    "            # Skapar värden för 'f' 'g' och 'h'.\n",
    "            child.g = current_node.g + cost\n",
    "            child.h = (((child.position[0] - end_node.position[0]) ** 2) + \n",
    "                       ((child.position[1] - end_node.position[1]) ** 2)) \n",
    "            child.f = child.g + child.h\n",
    "\n",
    "            if len([i for i in gonna_visit if child == i and child.g > i.g]) > 0:\n",
    "                continue\n",
    "            gonna_visit.append(child)\n",
    "\n",
    "if __name__ == '__main__':    \n",
    "    start = [1, 1] \n",
    "    end = [15,15] \n",
    "    cost = 1 \n",
    "\n",
    "    path = search(maze, cost, start, end)\n",
    "    imshow(path)"
   ]
  },
  {
   "cell_type": "code",
   "execution_count": null,
   "id": "f9f9305e",
   "metadata": {},
   "outputs": [],
   "source": []
  },
  {
   "cell_type": "code",
   "execution_count": null,
   "id": "97c82dc1",
   "metadata": {},
   "outputs": [],
   "source": []
  }
 ],
 "metadata": {
  "kernelspec": {
   "display_name": "Python 3 (ipykernel)",
   "language": "python",
   "name": "python3"
  },
  "language_info": {
   "codemirror_mode": {
    "name": "ipython",
    "version": 3
   },
   "file_extension": ".py",
   "mimetype": "text/x-python",
   "name": "python",
   "nbconvert_exporter": "python",
   "pygments_lexer": "ipython3",
   "version": "3.9.13"
  }
 },
 "nbformat": 4,
 "nbformat_minor": 5
}
